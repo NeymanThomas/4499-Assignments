{
  "nbformat": 4,
  "nbformat_minor": 0,
  "metadata": {
    "colab": {
      "name": "Homework_4.ipynb",
      "provenance": []
    },
    "kernelspec": {
      "name": "python3",
      "display_name": "Python 3"
    },
    "accelerator": "GPU"
  },
  "cells": [
    {
      "cell_type": "markdown",
      "metadata": {
        "id": "YKcu5pJ0cwHg"
      },
      "source": [
        "# Homework 4: CIFAR-10\n",
        "Applied Neural Networks"
      ]
    },
    {
      "cell_type": "markdown",
      "metadata": {
        "id": "gple3Yuxem1H"
      },
      "source": [
        "## Create a CNN to classify CIFAR-10\n",
        "Use the [CIFAR-10](https://www.cs.toronto.edu/~kriz/cifar.html) dataset.\n",
        "\n",
        "You can utilize `keras.datasets.cifar10.load_data()` to import the dataset as `numpy ndarrays` or `tfds.load('cifar10')` to import the dataset as `tf.data.Dataset`.\n",
        "\n",
        "**You must utilize transfer learning and data augmentation.** Your grade will depend on the quality of your best model. Discuss the different models you tried. *Include all model parameters, accuracy, a confusion matrix, and sample misclassified images.*\n",
        "\n",
        "I suggest using data pipelines to avoid a RAM resource exhaustion error. They can be implemented fairly easily in one of two ways: \n",
        "  1. Utilize a data_augmentation function and Dataset.map(data_augmentation) to augment your training tf.data.Dataset (will require `tf.data.Dataset`s), or\n",
        "  2. Utilize Keras ImageDataGenerator, using the ImageDataGenerator to also do all preprocessing necessary and batch images (will require `np ndarray`s)."
      ]
    },
    {
      "cell_type": "code",
      "metadata": {
        "id": "fRnkLqYRInRf"
      },
      "source": [
        ""
      ],
      "execution_count": null,
      "outputs": []
    },
    {
      "cell_type": "code",
      "metadata": {
        "id": "NkkpN3lK2VSL"
      },
      "source": [
        ""
      ],
      "execution_count": null,
      "outputs": []
    },
    {
      "cell_type": "code",
      "metadata": {
        "id": "8P1u_di4MUYd"
      },
      "source": [
        ""
      ],
      "execution_count": null,
      "outputs": []
    }
  ]
}