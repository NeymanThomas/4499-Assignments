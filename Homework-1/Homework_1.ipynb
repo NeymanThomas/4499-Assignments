{
  "nbformat": 4,
  "nbformat_minor": 0,
  "metadata": {
    "colab": {
      "name": "Homework_1.ipynb",
      "provenance": [],
      "collapsed_sections": []
    },
    "kernelspec": {
      "name": "python3",
      "display_name": "Python 3"
    },
    "accelerator": "GPU"
  },
  "cells": [
    {
      "cell_type": "markdown",
      "metadata": {
        "id": "z5WdryXVS4ty"
      },
      "source": [
        "# Applied Neural Networks Homework 1\n",
        "Leslie Kerby"
      ]
    },
    {
      "cell_type": "markdown",
      "metadata": {
        "id": "DHlAQJ1AS-VJ"
      },
      "source": [
        "# **MNIST Digits and Keras**</br>\n",
        "Import in the MNIST digits dataset (70,000 images, each 28x28 pixels). Preprocess the data as necessary. The training set should have 60k images and the test set 10k. Also create a validation set within the training set -- using 10% of the training data. \n",
        "\n",
        "**Part 1** </br>\n",
        "Using the Keras Sequential API, create a neural network with two hidden layers of 500 neurons each. Train it for 30 epochs. Graph the accuracy and loss for the training and validation sets. Does your model become overfit? If so, at about what epoch? Re-train your neural network for that number of epochs. \n",
        "\n",
        "Now test your neural network on your testing data. What accuracy do you achieve? Is it about the same as the accuracy on the validation data?\n",
        "\n",
        "Plot several of the misclassified images from your model. \n",
        "\n",
        "**Part 2** </br>\n",
        "Try to improve your model by changing your architecture (try different numbers of neurons per layer, and/or more layers) and report again on accuracies and plot several misclassified images.\n",
        "\n",
        "**Part 3** </br>\n",
        "Which model did best? Discuss."
      ]
    },
    {
      "cell_type": "markdown",
      "source": [
        "Part 1:"
      ],
      "metadata": {
        "id": "3isw0T8yxV3W"
      }
    },
    {
      "cell_type": "code",
      "metadata": {
        "id": "aMMDsGreT745",
        "colab": {
          "base_uri": "https://localhost:8080/",
          "height": 321
        },
        "outputId": "28590047-723f-44aa-e45e-e120fb776472"
      },
      "source": [
        "import tensorflow as tf\n",
        "from tensorflow import keras\n",
        "import numpy as np\n",
        "import matplotlib.pyplot as plt\n",
        "from collections import Counter\n",
        "\n",
        "np.random.seed(30)\n",
        "tf.random.set_seed(15)\n",
        "\n",
        "mnist_digits = keras.datasets.mnist\n",
        "# the ndarrays that will hold the data sets of 60000 and 10000 numbers\n",
        "(X_train_full, Y_train_full), (X_test, Y_test) = mnist_digits.load_data()\n",
        "\n",
        "# plot to see the figure at the desired index '0'\n",
        "plt.imshow(X_train_full[0], cmap='binary')\n",
        "plt.axis('off')\n",
        "plt.title(f'Target: {Y_train_full[0]}', fontsize=20, c='grey')\n",
        "plt.show()"
      ],
      "execution_count": 1,
      "outputs": [
        {
          "output_type": "stream",
          "name": "stdout",
          "text": [
            "Downloading data from https://storage.googleapis.com/tensorflow/tf-keras-datasets/mnist.npz\n",
            "11493376/11490434 [==============================] - 0s 0us/step\n",
            "11501568/11490434 [==============================] - 0s 0us/step\n"
          ]
        },
        {
          "output_type": "display_data",
          "data": {
            "image/png": "[encoded data removed]",
            "text/plain": [
              "<Figure size 432x288 with 1 Axes>"
            ]
          },
          "metadata": {
            "needs_background": "light"
          }
        }
      ]
    },
    {
      "cell_type": "code",
      "metadata": {
        "id": "5_-S9vKgXQZo",
        "colab": {
          "base_uri": "https://localhost:8080/"
        },
        "outputId": "f161f9bd-77f6-47fb-d516-5f4a104babe4"
      },
      "source": [
        "# Verifying the arrays are the correct sizes : 60000\n",
        "Y_train_full.size"
      ],
      "execution_count": 2,
      "outputs": [
        {
          "output_type": "execute_result",
          "data": {
            "text/plain": [
              "60000"
            ]
          },
          "metadata": {},
          "execution_count": 2
        }
      ]
    },
    {
      "cell_type": "code",
      "metadata": {
        "id": "0AUNQe9fXQcq",
        "colab": {
          "base_uri": "https://localhost:8080/"
        },
        "outputId": "735ba29c-5882-4202-94c4-7c11c203dff6"
      },
      "source": [
        "# size : 10000\n",
        "Y_test.size"
      ],
      "execution_count": 3,
      "outputs": [
        {
          "output_type": "execute_result",
          "data": {
            "text/plain": [
              "10000"
            ]
          },
          "metadata": {},
          "execution_count": 3
        }
      ]
    },
    {
      "cell_type": "code",
      "source": [
        "# only execute the proprocessing cell once\n",
        "# the testing set and the training set both need to be proprocessed because the\n",
        "# testing set will be fed into the same model the as the training set\n",
        "X_train_full = X_train_full / 255\n",
        "X_test = X_test / 255"
      ],
      "metadata": {
        "id": "4vbDOtXZd9Z2"
      },
      "execution_count": 4,
      "outputs": []
    },
    {
      "cell_type": "code",
      "source": [
        "# Reshape step to make sure the image is converted to 1D, 784 is 28x28\n",
        "# -1 simply tells numpy to determine the size itself\n",
        "X_train_full = X_train_full.reshape(-1, 784)\n",
        "X_test = X_test.reshape(-1, 784)"
      ],
      "metadata": {
        "id": "28SlQRMtefr_"
      },
      "execution_count": 5,
      "outputs": []
    },
    {
      "cell_type": "code",
      "source": [
        "# Validation dataset\n",
        "from sklearn.model_selection import train_test_split\n",
        "X_train_tr, X_train_v, y_train_tr, y_train_v = train_test_split(X_train_full, Y_train_full, test_size=5000)"
      ],
      "metadata": {
        "id": "EoJI3cNwfHcZ"
      },
      "execution_count": 6,
      "outputs": []
    },
    {
      "cell_type": "code",
      "source": [
        "X_train_tr.shape"
      ],
      "metadata": {
        "colab": {
          "base_uri": "https://localhost:8080/"
        },
        "id": "kN_729JeKKTv",
        "outputId": "e7a83e45-501b-4081-b7e8-69ca30cf6b99"
      },
      "execution_count": 7,
      "outputs": [
        {
          "output_type": "execute_result",
          "data": {
            "text/plain": [
              "(55000, 784)"
            ]
          },
          "metadata": {},
          "execution_count": 7
        }
      ]
    },
    {
      "cell_type": "code",
      "source": [
        "X_train_v.shape"
      ],
      "metadata": {
        "colab": {
          "base_uri": "https://localhost:8080/"
        },
        "id": "vzYaOtHdKUR5",
        "outputId": "d42dc81a-bb81-4577-b8f3-2c9e743f9a02"
      },
      "execution_count": 8,
      "outputs": [
        {
          "output_type": "execute_result",
          "data": {
            "text/plain": [
              "(5000, 784)"
            ]
          },
          "metadata": {},
          "execution_count": 8
        }
      ]
    },
    {
      "cell_type": "code",
      "source": [
        "# Creating Model\n",
        "# We create a model that has 2 hidden layers with 500 neurons each, then one output\n",
        "# layer with 10 neurons\n",
        "model = keras.models.Sequential()\n",
        "model.add(keras.layers.Dense(500, activation=\"relu\", input_shape=(784,),\n",
        "                             name=\"First_Hidden_Layer\"))\n",
        "model.add(keras.layers.Dense(500, activation=\"relu\", name=\"Second_Hidden_Layer\"))\n",
        "model.add(keras.layers.Dense(10, activation=\"softmax\", name=\"Output_Layer\"))"
      ],
      "metadata": {
        "id": "qvyzICK5fh8Q"
      },
      "execution_count": 9,
      "outputs": []
    },
    {
      "cell_type": "code",
      "source": [
        "# validate it was created properly\n",
        "model.summary()"
      ],
      "metadata": {
        "colab": {
          "base_uri": "https://localhost:8080/"
        },
        "id": "gBXyWmksgCRJ",
        "outputId": "17a6694f-a940-4787-e004-9d76cba4a356"
      },
      "execution_count": 10,
      "outputs": [
        {
          "output_type": "stream",
          "name": "stdout",
          "text": [
            "Model: \"sequential\"\n",
            "_________________________________________________________________\n",
            " Layer (type)                Output Shape              Param #   \n",
            "=================================================================\n",
            " First_Hidden_Layer (Dense)  (None, 500)               392500    \n",
            "                                                                 \n",
            " Second_Hidden_Layer (Dense)  (None, 500)              250500    \n",
            "                                                                 \n",
            " Output_Layer (Dense)        (None, 10)                5010      \n",
            "                                                                 \n",
            "=================================================================\n",
            "Total params: 648,010\n",
            "Trainable params: 648,010\n",
            "Non-trainable params: 0\n",
            "_________________________________________________________________\n"
          ]
        }
      ]
    },
    {
      "cell_type": "code",
      "source": [
        "keras.utils.plot_model(model, show_shapes=True)"
      ],
      "metadata": {
        "colab": {
          "base_uri": "https://localhost:8080/",
          "height": 422
        },
        "id": "xaOCxVF6g5is",
        "outputId": "6b4f937b-8b93-4f95-9629-f57032d638bb"
      },
      "execution_count": 11,
      "outputs": [
        {
          "output_type": "execute_result",
          "data": {
            "image/png": "[encoded data removed]",
            "text/plain": [
              "<IPython.core.display.Image object>"
            ]
          },
          "metadata": {},
          "execution_count": 11
        }
      ]
    },
    {
      "cell_type": "code",
      "source": [
        "# Compile the model with crossentropy for the loss function\n",
        "model.compile(loss=\"sparse_categorical_crossentropy\", optimizer=\"sgd\", metrics=[\"accuracy\"])"
      ],
      "metadata": {
        "id": "DqzuF_lUhJj5"
      },
      "execution_count": 32,
      "outputs": []
    },
    {
      "cell_type": "code",
      "source": [
        "# Train the model on data for 30 epochs against the X and Y validation sets\n",
        "history = model.fit(X_train_tr, y_train_tr, epochs=30, batch_size=32, validation_data=(X_train_v, y_train_v))"
      ],
      "metadata": {
        "colab": {
          "base_uri": "https://localhost:8080/"
        },
        "id": "QFtRyTsHxUUp",
        "outputId": "0cfbe553-1f8b-4d36-ca1f-d840b2af857a"
      },
      "execution_count": 13,
      "outputs": [
        {
          "output_type": "stream",
          "name": "stdout",
          "text": [
            "Epoch 1/30\n",
            "1719/1719 [==============================] - 13s 6ms/step - loss: 0.5824 - accuracy: 0.8571 - val_loss: 0.3180 - val_accuracy: 0.9076\n",
            "Epoch 2/30\n",
            "1719/1719 [==============================] - 7s 4ms/step - loss: 0.2782 - accuracy: 0.9210 - val_loss: 0.2584 - val_accuracy: 0.9224\n",
            "Epoch 3/30\n",
            "1719/1719 [==============================] - 7s 4ms/step - loss: 0.2281 - accuracy: 0.9359 - val_loss: 0.2139 - val_accuracy: 0.9370\n",
            "Epoch 4/30\n",
            "1719/1719 [==============================] - 7s 4ms/step - loss: 0.1946 - accuracy: 0.9443 - val_loss: 0.1851 - val_accuracy: 0.9500\n",
            "Epoch 5/30\n",
            "1719/1719 [==============================] - 7s 4ms/step - loss: 0.1699 - accuracy: 0.9521 - val_loss: 0.1653 - val_accuracy: 0.9504\n",
            "Epoch 6/30\n",
            "1719/1719 [==============================] - 7s 4ms/step - loss: 0.1502 - accuracy: 0.9573 - val_loss: 0.1498 - val_accuracy: 0.9554\n",
            "Epoch 7/30\n",
            "1719/1719 [==============================] - 7s 4ms/step - loss: 0.1345 - accuracy: 0.9620 - val_loss: 0.1385 - val_accuracy: 0.9596\n",
            "Epoch 8/30\n",
            "1719/1719 [==============================] - 7s 4ms/step - loss: 0.1213 - accuracy: 0.9656 - val_loss: 0.1311 - val_accuracy: 0.9636\n",
            "Epoch 9/30\n",
            "1719/1719 [==============================] - 7s 4ms/step - loss: 0.1103 - accuracy: 0.9687 - val_loss: 0.1216 - val_accuracy: 0.9652\n",
            "Epoch 10/30\n",
            "1719/1719 [==============================] - 7s 4ms/step - loss: 0.1006 - accuracy: 0.9713 - val_loss: 0.1136 - val_accuracy: 0.9652\n",
            "Epoch 11/30\n",
            "1719/1719 [==============================] - 7s 4ms/step - loss: 0.0922 - accuracy: 0.9744 - val_loss: 0.1066 - val_accuracy: 0.9700\n",
            "Epoch 12/30\n",
            "1719/1719 [==============================] - 7s 4ms/step - loss: 0.0847 - accuracy: 0.9763 - val_loss: 0.1017 - val_accuracy: 0.9692\n",
            "Epoch 13/30\n",
            "1719/1719 [==============================] - 7s 4ms/step - loss: 0.0784 - accuracy: 0.9784 - val_loss: 0.0981 - val_accuracy: 0.9720\n",
            "Epoch 14/30\n",
            "1719/1719 [==============================] - 8s 5ms/step - loss: 0.0721 - accuracy: 0.9805 - val_loss: 0.0975 - val_accuracy: 0.9722\n",
            "Epoch 15/30\n",
            "1719/1719 [==============================] - 7s 4ms/step - loss: 0.0673 - accuracy: 0.9819 - val_loss: 0.0927 - val_accuracy: 0.9714\n",
            "Epoch 16/30\n",
            "1719/1719 [==============================] - 7s 4ms/step - loss: 0.0623 - accuracy: 0.9833 - val_loss: 0.0897 - val_accuracy: 0.9732\n",
            "Epoch 17/30\n",
            "1719/1719 [==============================] - 7s 4ms/step - loss: 0.0582 - accuracy: 0.9844 - val_loss: 0.0862 - val_accuracy: 0.9752\n",
            "Epoch 18/30\n",
            "1719/1719 [==============================] - 7s 4ms/step - loss: 0.0542 - accuracy: 0.9861 - val_loss: 0.0835 - val_accuracy: 0.9754\n",
            "Epoch 19/30\n",
            "1719/1719 [==============================] - 7s 4ms/step - loss: 0.0505 - accuracy: 0.9869 - val_loss: 0.0816 - val_accuracy: 0.9744\n",
            "Epoch 20/30\n",
            "1719/1719 [==============================] - 7s 4ms/step - loss: 0.0473 - accuracy: 0.9878 - val_loss: 0.0811 - val_accuracy: 0.9750\n",
            "Epoch 21/30\n",
            "1719/1719 [==============================] - 7s 4ms/step - loss: 0.0444 - accuracy: 0.9888 - val_loss: 0.0791 - val_accuracy: 0.9770\n",
            "Epoch 22/30\n",
            "1719/1719 [==============================] - 7s 4ms/step - loss: 0.0415 - accuracy: 0.9893 - val_loss: 0.0767 - val_accuracy: 0.9776\n",
            "Epoch 23/30\n",
            "1719/1719 [==============================] - 7s 4ms/step - loss: 0.0391 - accuracy: 0.9902 - val_loss: 0.0782 - val_accuracy: 0.9786\n",
            "Epoch 24/30\n",
            "1719/1719 [==============================] - 7s 4ms/step - loss: 0.0366 - accuracy: 0.9912 - val_loss: 0.0794 - val_accuracy: 0.9760\n",
            "Epoch 25/30\n",
            "1719/1719 [==============================] - 7s 4ms/step - loss: 0.0343 - accuracy: 0.9917 - val_loss: 0.0750 - val_accuracy: 0.9780\n",
            "Epoch 26/30\n",
            "1719/1719 [==============================] - 7s 4ms/step - loss: 0.0325 - accuracy: 0.9921 - val_loss: 0.0746 - val_accuracy: 0.9784\n",
            "Epoch 27/30\n",
            "1719/1719 [==============================] - 7s 4ms/step - loss: 0.0303 - accuracy: 0.9933 - val_loss: 0.0740 - val_accuracy: 0.9786\n",
            "Epoch 28/30\n",
            "1719/1719 [==============================] - 7s 4ms/step - loss: 0.0288 - accuracy: 0.9937 - val_loss: 0.0737 - val_accuracy: 0.9786\n",
            "Epoch 29/30\n",
            "1719/1719 [==============================] - 7s 4ms/step - loss: 0.0267 - accuracy: 0.9941 - val_loss: 0.0720 - val_accuracy: 0.9788\n",
            "Epoch 30/30\n",
            "1719/1719 [==============================] - 7s 4ms/step - loss: 0.0254 - accuracy: 0.9948 - val_loss: 0.0721 - val_accuracy: 0.9794\n"
          ]
        }
      ]
    },
    {
      "cell_type": "code",
      "source": [
        "import pandas as pd\n",
        "pd.DataFrame(history.history)\n",
        "pd.DataFrame(history.history).plot(figsize=(10,7))"
      ],
      "metadata": {
        "colab": {
          "base_uri": "https://localhost:8080/",
          "height": 445
        },
        "id": "tiZMAexVyBZT",
        "outputId": "d2834fb5-9e50-4a1a-e7ca-ccf7b622790b"
      },
      "execution_count": 14,
      "outputs": [
        {
          "output_type": "execute_result",
          "data": {
            "text/plain": [
              "<matplotlib.axes._subplots.AxesSubplot at 0x7f3ad0252610>"
            ]
          },
          "metadata": {},
          "execution_count": 14
        },
        {
          "output_type": "display_data",
          "data": {
            "image/png": "[encoded data removed]",
            "text/plain": [
              "<Figure size 720x504 with 1 Axes>"
            ]
          },
          "metadata": {
            "needs_background": "light"
          }
        }
      ]
    },
    {
      "cell_type": "code",
      "source": [
        "model.evaluate(X_test, Y_test)"
      ],
      "metadata": {
        "colab": {
          "base_uri": "https://localhost:8080/"
        },
        "id": "3ADTdD_UlY1r",
        "outputId": "0c7dfdc7-6bc6-4e10-99e3-0f220ee30961"
      },
      "execution_count": 15,
      "outputs": [
        {
          "output_type": "stream",
          "name": "stdout",
          "text": [
            "313/313 [==============================] - 1s 3ms/step - loss: 0.0664 - accuracy: 0.9811\n"
          ]
        },
        {
          "output_type": "execute_result",
          "data": {
            "text/plain": [
              "[0.06642207503318787, 0.9811000227928162]"
            ]
          },
          "metadata": {},
          "execution_count": 15
        }
      ]
    },
    {
      "cell_type": "markdown",
      "source": [
        "# Answers for part 1\n",
        "The loss and accuracy represent the data for the training set while the val_loss and val_accuracy represent the data for the validation sets tested against the training.\n",
        "### Did the model become overfit after 30 epochs?\n",
        "The validation loss and accuracy only get better as time goes on and follow the trend of the training loss and accuracy, so it doesn't appear that the model actually became overfit. After 30 epochs, the loss was 0.0254 and the accuracy was 0.9948 which shows the training model was working very well. The validation loss was 0.0721 and the validation accuracy was 0.9794 which is extremely close to the training model. So evaluating the model we see that the results for loss and accuracy are extremely close to what is expected. \n",
        "### At what epoch is the model overfit?\n",
        "The model never becomes overfit and the accuracy only increases over the entire 30 epoch period. I suppose the model could be ran for an even larger number of epochs to see at what point it would finally become overfit. We will continue to train the model for another 20 epochs."
      ],
      "metadata": {
        "id": "rFxIWXst2X1i"
      }
    },
    {
      "cell_type": "code",
      "source": [
        "# run the model for another 20 epochs\n",
        "history_2 = model.fit(X_train_tr, y_train_tr, epochs=20, validation_data=(X_train_v, y_train_v))"
      ],
      "metadata": {
        "colab": {
          "base_uri": "https://localhost:8080/"
        },
        "id": "aXgRoQFWo2mZ",
        "outputId": "52a6b18f-19c6-422f-d3d8-6cb3279600cc"
      },
      "execution_count": 16,
      "outputs": [
        {
          "output_type": "stream",
          "name": "stdout",
          "text": [
            "Epoch 1/20\n",
            "1719/1719 [==============================] - 7s 4ms/step - loss: 0.0240 - accuracy: 0.9952 - val_loss: 0.0708 - val_accuracy: 0.9796\n",
            "Epoch 2/20\n",
            "1719/1719 [==============================] - 7s 4ms/step - loss: 0.0223 - accuracy: 0.9957 - val_loss: 0.0811 - val_accuracy: 0.9766\n",
            "Epoch 3/20\n",
            "1719/1719 [==============================] - 7s 4ms/step - loss: 0.0212 - accuracy: 0.9962 - val_loss: 0.0703 - val_accuracy: 0.9806\n",
            "Epoch 4/20\n",
            "1719/1719 [==============================] - 7s 4ms/step - loss: 0.0200 - accuracy: 0.9964 - val_loss: 0.0696 - val_accuracy: 0.9810\n",
            "Epoch 5/20\n",
            "1719/1719 [==============================] - 7s 4ms/step - loss: 0.0190 - accuracy: 0.9967 - val_loss: 0.0693 - val_accuracy: 0.9798\n",
            "Epoch 6/20\n",
            "1719/1719 [==============================] - 7s 4ms/step - loss: 0.0178 - accuracy: 0.9973 - val_loss: 0.0706 - val_accuracy: 0.9804\n",
            "Epoch 7/20\n",
            "1719/1719 [==============================] - 7s 4ms/step - loss: 0.0169 - accuracy: 0.9976 - val_loss: 0.0686 - val_accuracy: 0.9792\n",
            "Epoch 8/20\n",
            "1719/1719 [==============================] - 7s 4ms/step - loss: 0.0159 - accuracy: 0.9978 - val_loss: 0.0704 - val_accuracy: 0.9802\n",
            "Epoch 9/20\n",
            "1719/1719 [==============================] - 8s 5ms/step - loss: 0.0151 - accuracy: 0.9980 - val_loss: 0.0682 - val_accuracy: 0.9798\n",
            "Epoch 10/20\n",
            "1719/1719 [==============================] - 8s 4ms/step - loss: 0.0141 - accuracy: 0.9983 - val_loss: 0.0686 - val_accuracy: 0.9800\n",
            "Epoch 11/20\n",
            "1719/1719 [==============================] - 7s 4ms/step - loss: 0.0135 - accuracy: 0.9983 - val_loss: 0.0670 - val_accuracy: 0.9802\n",
            "Epoch 12/20\n",
            "1719/1719 [==============================] - 7s 4ms/step - loss: 0.0129 - accuracy: 0.9985 - val_loss: 0.0672 - val_accuracy: 0.9802\n",
            "Epoch 13/20\n",
            "1719/1719 [==============================] - 7s 4ms/step - loss: 0.0122 - accuracy: 0.9988 - val_loss: 0.0683 - val_accuracy: 0.9806\n",
            "Epoch 14/20\n",
            "1719/1719 [==============================] - 7s 4ms/step - loss: 0.0115 - accuracy: 0.9989 - val_loss: 0.0689 - val_accuracy: 0.9804\n",
            "Epoch 15/20\n",
            "1719/1719 [==============================] - 7s 4ms/step - loss: 0.0110 - accuracy: 0.9988 - val_loss: 0.0694 - val_accuracy: 0.9800\n",
            "Epoch 16/20\n",
            "1719/1719 [==============================] - 7s 4ms/step - loss: 0.0105 - accuracy: 0.9990 - val_loss: 0.0693 - val_accuracy: 0.9808\n",
            "Epoch 17/20\n",
            "1719/1719 [==============================] - 7s 4ms/step - loss: 0.0100 - accuracy: 0.9992 - val_loss: 0.0682 - val_accuracy: 0.9812\n",
            "Epoch 18/20\n",
            "1719/1719 [==============================] - 7s 4ms/step - loss: 0.0095 - accuracy: 0.9992 - val_loss: 0.0688 - val_accuracy: 0.9810\n",
            "Epoch 19/20\n",
            "1719/1719 [==============================] - 7s 4ms/step - loss: 0.0091 - accuracy: 0.9994 - val_loss: 0.0678 - val_accuracy: 0.9806\n",
            "Epoch 20/20\n",
            "1719/1719 [==============================] - 7s 4ms/step - loss: 0.0087 - accuracy: 0.9993 - val_loss: 0.0685 - val_accuracy: 0.9802\n"
          ]
        }
      ]
    },
    {
      "cell_type": "code",
      "source": [
        "histories = pd.DataFrame(history.history)\n",
        "histories = histories.append(pd.DataFrame(history_2.history), ignore_index=True)\n",
        "histories"
      ],
      "metadata": {
        "colab": {
          "base_uri": "https://localhost:8080/",
          "height": 1000
        },
        "id": "Zakb7zGPp55T",
        "outputId": "3cc67e9d-d4a7-47c0-cf0f-312eb9de9e8a"
      },
      "execution_count": 18,
      "outputs": [
        {
          "output_type": "execute_result",
          "data": {
            "text/html": [
              "\n",
              "  <div id=\"df-d938fe48-8117-42d0-b2e8-99f3a4f20db3\">\n",
              "    <div class=\"colab-df-container\">\n",
              "      <div>\n",
              "<style scoped>\n",
              "    .dataframe tbody tr th:only-of-type {\n",
              "        vertical-align: middle;\n",
              "    }\n",
              "\n",
              "    .dataframe tbody tr th {\n",
              "        vertical-align: top;\n",
              "    }\n",
              "\n",
              "    .dataframe thead th {\n",
              "        text-align: right;\n",
              "    }\n",
              "</style>\n",
              "<table border=\"1\" class=\"dataframe\">\n",
              "  <thead>\n",
              "    <tr style=\"text-align: right;\">\n",
              "      <th></th>\n",
              "      <th>loss</th>\n",
              "      <th>accuracy</th>\n",
              "      <th>val_loss</th>\n",
              "      <th>val_accuracy</th>\n",
              "    </tr>\n",
              "  </thead>\n",
              "  <tbody>\n",
              "    <tr>\n",
              "      <th>0</th>\n",
              "      <td>0.582388</td>\n",
              "      <td>0.857073</td>\n",
              "      <td>0.317991</td>\n",
              "      <td>0.9076</td>\n",
              "    </tr>\n",
              "    <tr>\n",
              "      <th>1</th>\n",
              "      <td>0.278161</td>\n",
              "      <td>0.921018</td>\n",
              "      <td>0.258350</td>\n",
              "      <td>0.9224</td>\n",
              "    </tr>\n",
              "    <tr>\n",
              "      <th>2</th>\n",
              "      <td>0.228084</td>\n",
              "      <td>0.935873</td>\n",
              "      <td>0.213885</td>\n",
              "      <td>0.9370</td>\n",
              "    </tr>\n",
              "    <tr>\n",
              "      <th>3</th>\n",
              "      <td>0.194566</td>\n",
              "      <td>0.944273</td>\n",
              "      <td>0.185119</td>\n",
              "      <td>0.9500</td>\n",
              "    </tr>\n",
              "    <tr>\n",
              "      <th>4</th>\n",
              "      <td>0.169926</td>\n",
              "      <td>0.952055</td>\n",
              "      <td>0.165266</td>\n",
              "      <td>0.9504</td>\n",
              "    </tr>\n",
              "    <tr>\n",
              "      <th>5</th>\n",
              "      <td>0.150215</td>\n",
              "      <td>0.957255</td>\n",
              "      <td>0.149782</td>\n",
              "      <td>0.9554</td>\n",
              "    </tr>\n",
              "    <tr>\n",
              "      <th>6</th>\n",
              "      <td>0.134512</td>\n",
              "      <td>0.962018</td>\n",
              "      <td>0.138487</td>\n",
              "      <td>0.9596</td>\n",
              "    </tr>\n",
              "    <tr>\n",
              "      <th>7</th>\n",
              "      <td>0.121252</td>\n",
              "      <td>0.965564</td>\n",
              "      <td>0.131113</td>\n",
              "      <td>0.9636</td>\n",
              "    </tr>\n",
              "    <tr>\n",
              "      <th>8</th>\n",
              "      <td>0.110330</td>\n",
              "      <td>0.968709</td>\n",
              "      <td>0.121570</td>\n",
              "      <td>0.9652</td>\n",
              "    </tr>\n",
              "    <tr>\n",
              "      <th>9</th>\n",
              "      <td>0.100562</td>\n",
              "      <td>0.971273</td>\n",
              "      <td>0.113558</td>\n",
              "      <td>0.9652</td>\n",
              "    </tr>\n",
              "    <tr>\n",
              "      <th>10</th>\n",
              "      <td>0.092227</td>\n",
              "      <td>0.974400</td>\n",
              "      <td>0.106569</td>\n",
              "      <td>0.9700</td>\n",
              "    </tr>\n",
              "    <tr>\n",
              "      <th>11</th>\n",
              "      <td>0.084747</td>\n",
              "      <td>0.976327</td>\n",
              "      <td>0.101715</td>\n",
              "      <td>0.9692</td>\n",
              "    </tr>\n",
              "    <tr>\n",
              "      <th>12</th>\n",
              "      <td>0.078358</td>\n",
              "      <td>0.978418</td>\n",
              "      <td>0.098113</td>\n",
              "      <td>0.9720</td>\n",
              "    </tr>\n",
              "    <tr>\n",
              "      <th>13</th>\n",
              "      <td>0.072099</td>\n",
              "      <td>0.980491</td>\n",
              "      <td>0.097498</td>\n",
              "      <td>0.9722</td>\n",
              "    </tr>\n",
              "    <tr>\n",
              "      <th>14</th>\n",
              "      <td>0.067278</td>\n",
              "      <td>0.981873</td>\n",
              "      <td>0.092656</td>\n",
              "      <td>0.9714</td>\n",
              "    </tr>\n",
              "    <tr>\n",
              "      <th>15</th>\n",
              "      <td>0.062256</td>\n",
              "      <td>0.983291</td>\n",
              "      <td>0.089669</td>\n",
              "      <td>0.9732</td>\n",
              "    </tr>\n",
              "    <tr>\n",
              "      <th>16</th>\n",
              "      <td>0.058168</td>\n",
              "      <td>0.984400</td>\n",
              "      <td>0.086184</td>\n",
              "      <td>0.9752</td>\n",
              "    </tr>\n",
              "    <tr>\n",
              "      <th>17</th>\n",
              "      <td>0.054239</td>\n",
              "      <td>0.986145</td>\n",
              "      <td>0.083507</td>\n",
              "      <td>0.9754</td>\n",
              "    </tr>\n",
              "    <tr>\n",
              "      <th>18</th>\n",
              "      <td>0.050493</td>\n",
              "      <td>0.986945</td>\n",
              "      <td>0.081645</td>\n",
              "      <td>0.9744</td>\n",
              "    </tr>\n",
              "    <tr>\n",
              "      <th>19</th>\n",
              "      <td>0.047306</td>\n",
              "      <td>0.987836</td>\n",
              "      <td>0.081140</td>\n",
              "      <td>0.9750</td>\n",
              "    </tr>\n",
              "    <tr>\n",
              "      <th>20</th>\n",
              "      <td>0.044411</td>\n",
              "      <td>0.988800</td>\n",
              "      <td>0.079116</td>\n",
              "      <td>0.9770</td>\n",
              "    </tr>\n",
              "    <tr>\n",
              "      <th>21</th>\n",
              "      <td>0.041509</td>\n",
              "      <td>0.989309</td>\n",
              "      <td>0.076689</td>\n",
              "      <td>0.9776</td>\n",
              "    </tr>\n",
              "    <tr>\n",
              "      <th>22</th>\n",
              "      <td>0.039067</td>\n",
              "      <td>0.990164</td>\n",
              "      <td>0.078174</td>\n",
              "      <td>0.9786</td>\n",
              "    </tr>\n",
              "    <tr>\n",
              "      <th>23</th>\n",
              "      <td>0.036571</td>\n",
              "      <td>0.991164</td>\n",
              "      <td>0.079393</td>\n",
              "      <td>0.9760</td>\n",
              "    </tr>\n",
              "    <tr>\n",
              "      <th>24</th>\n",
              "      <td>0.034312</td>\n",
              "      <td>0.991673</td>\n",
              "      <td>0.074997</td>\n",
              "      <td>0.9780</td>\n",
              "    </tr>\n",
              "    <tr>\n",
              "      <th>25</th>\n",
              "      <td>0.032488</td>\n",
              "      <td>0.992109</td>\n",
              "      <td>0.074649</td>\n",
              "      <td>0.9784</td>\n",
              "    </tr>\n",
              "    <tr>\n",
              "      <th>26</th>\n",
              "      <td>0.030348</td>\n",
              "      <td>0.993291</td>\n",
              "      <td>0.073966</td>\n",
              "      <td>0.9786</td>\n",
              "    </tr>\n",
              "    <tr>\n",
              "      <th>27</th>\n",
              "      <td>0.028782</td>\n",
              "      <td>0.993655</td>\n",
              "      <td>0.073727</td>\n",
              "      <td>0.9786</td>\n",
              "    </tr>\n",
              "    <tr>\n",
              "      <th>28</th>\n",
              "      <td>0.026713</td>\n",
              "      <td>0.994091</td>\n",
              "      <td>0.072009</td>\n",
              "      <td>0.9788</td>\n",
              "    </tr>\n",
              "    <tr>\n",
              "      <th>29</th>\n",
              "      <td>0.025420</td>\n",
              "      <td>0.994764</td>\n",
              "      <td>0.072121</td>\n",
              "      <td>0.9794</td>\n",
              "    </tr>\n",
              "    <tr>\n",
              "      <th>30</th>\n",
              "      <td>0.023993</td>\n",
              "      <td>0.995164</td>\n",
              "      <td>0.070799</td>\n",
              "      <td>0.9796</td>\n",
              "    </tr>\n",
              "    <tr>\n",
              "      <th>31</th>\n",
              "      <td>0.022315</td>\n",
              "      <td>0.995727</td>\n",
              "      <td>0.081068</td>\n",
              "      <td>0.9766</td>\n",
              "    </tr>\n",
              "    <tr>\n",
              "      <th>32</th>\n",
              "      <td>0.021190</td>\n",
              "      <td>0.996182</td>\n",
              "      <td>0.070253</td>\n",
              "      <td>0.9806</td>\n",
              "    </tr>\n",
              "    <tr>\n",
              "      <th>33</th>\n",
              "      <td>0.019958</td>\n",
              "      <td>0.996418</td>\n",
              "      <td>0.069569</td>\n",
              "      <td>0.9810</td>\n",
              "    </tr>\n",
              "    <tr>\n",
              "      <th>34</th>\n",
              "      <td>0.018995</td>\n",
              "      <td>0.996745</td>\n",
              "      <td>0.069304</td>\n",
              "      <td>0.9798</td>\n",
              "    </tr>\n",
              "    <tr>\n",
              "      <th>35</th>\n",
              "      <td>0.017804</td>\n",
              "      <td>0.997255</td>\n",
              "      <td>0.070649</td>\n",
              "      <td>0.9804</td>\n",
              "    </tr>\n",
              "    <tr>\n",
              "      <th>36</th>\n",
              "      <td>0.016869</td>\n",
              "      <td>0.997564</td>\n",
              "      <td>0.068632</td>\n",
              "      <td>0.9792</td>\n",
              "    </tr>\n",
              "    <tr>\n",
              "      <th>37</th>\n",
              "      <td>0.015915</td>\n",
              "      <td>0.997818</td>\n",
              "      <td>0.070386</td>\n",
              "      <td>0.9802</td>\n",
              "    </tr>\n",
              "    <tr>\n",
              "      <th>38</th>\n",
              "      <td>0.015087</td>\n",
              "      <td>0.998018</td>\n",
              "      <td>0.068242</td>\n",
              "      <td>0.9798</td>\n",
              "    </tr>\n",
              "    <tr>\n",
              "      <th>39</th>\n",
              "      <td>0.014108</td>\n",
              "      <td>0.998255</td>\n",
              "      <td>0.068560</td>\n",
              "      <td>0.9800</td>\n",
              "    </tr>\n",
              "    <tr>\n",
              "      <th>40</th>\n",
              "      <td>0.013476</td>\n",
              "      <td>0.998345</td>\n",
              "      <td>0.067011</td>\n",
              "      <td>0.9802</td>\n",
              "    </tr>\n",
              "    <tr>\n",
              "      <th>41</th>\n",
              "      <td>0.012859</td>\n",
              "      <td>0.998455</td>\n",
              "      <td>0.067230</td>\n",
              "      <td>0.9802</td>\n",
              "    </tr>\n",
              "    <tr>\n",
              "      <th>42</th>\n",
              "      <td>0.012204</td>\n",
              "      <td>0.998800</td>\n",
              "      <td>0.068333</td>\n",
              "      <td>0.9806</td>\n",
              "    </tr>\n",
              "    <tr>\n",
              "      <th>43</th>\n",
              "      <td>0.011526</td>\n",
              "      <td>0.998855</td>\n",
              "      <td>0.068932</td>\n",
              "      <td>0.9804</td>\n",
              "    </tr>\n",
              "    <tr>\n",
              "      <th>44</th>\n",
              "      <td>0.011022</td>\n",
              "      <td>0.998836</td>\n",
              "      <td>0.069397</td>\n",
              "      <td>0.9800</td>\n",
              "    </tr>\n",
              "    <tr>\n",
              "      <th>45</th>\n",
              "      <td>0.010457</td>\n",
              "      <td>0.999000</td>\n",
              "      <td>0.069261</td>\n",
              "      <td>0.9808</td>\n",
              "    </tr>\n",
              "    <tr>\n",
              "      <th>46</th>\n",
              "      <td>0.010005</td>\n",
              "      <td>0.999218</td>\n",
              "      <td>0.068172</td>\n",
              "      <td>0.9812</td>\n",
              "    </tr>\n",
              "    <tr>\n",
              "      <th>47</th>\n",
              "      <td>0.009530</td>\n",
              "      <td>0.999236</td>\n",
              "      <td>0.068797</td>\n",
              "      <td>0.9810</td>\n",
              "    </tr>\n",
              "    <tr>\n",
              "      <th>48</th>\n",
              "      <td>0.009093</td>\n",
              "      <td>0.999382</td>\n",
              "      <td>0.067791</td>\n",
              "      <td>0.9806</td>\n",
              "    </tr>\n",
              "    <tr>\n",
              "      <th>49</th>\n",
              "      <td>0.008739</td>\n",
              "      <td>0.999309</td>\n",
              "      <td>0.068485</td>\n",
              "      <td>0.9802</td>\n",
              "    </tr>\n",
              "  </tbody>\n",
              "</table>\n",
              "</div>\n",
              "      <button class=\"colab-df-convert\" onclick=\"convertToInteractive('df-d938fe48-8117-42d0-b2e8-99f3a4f20db3')\"\n",
              "              title=\"Convert this dataframe to an interactive table.\"\n",
              "              style=\"display:none;\">\n",
              "        \n",
              "  <svg xmlns=\"http://www.w3.org/2000/svg\" height=\"24px\"viewBox=\"0 0 24 24\"\n",
              "       width=\"24px\">\n",
              "    <path d=\"M0 0h24v24H0V0z\" fill=\"none\"/>\n",
              "    <path d=\"M18.56 5.44l.94 2.06.94-2.06 2.06-.94-2.06-.94-.94-2.06-.94 2.06-2.06.94zm-11 1L8.5 8.5l.94-2.06 2.06-.94-2.06-.94L8.5 2.5l-.94 2.06-2.06.94zm10 10l.94 2.06.94-2.06 2.06-.94-2.06-.94-.94-2.06-.94 2.06-2.06.94z\"/><path d=\"M17.41 7.96l-1.37-1.37c-.4-.4-.92-.59-1.43-.59-.52 0-1.04.2-1.43.59L10.3 9.45l-7.72 7.72c-.78.78-.78 2.05 0 2.83L4 21.41c.39.39.9.59 1.41.59.51 0 1.02-.2 1.41-.59l7.78-7.78 2.81-2.81c.8-.78.8-2.07 0-2.86zM5.41 20L4 18.59l7.72-7.72 1.47 1.35L5.41 20z\"/>\n",
              "  </svg>\n",
              "      </button>\n",
              "      \n",
              "  <style>\n",
              "    .colab-df-container {\n",
              "      display:flex;\n",
              "      flex-wrap:wrap;\n",
              "      gap: 12px;\n",
              "    }\n",
              "\n",
              "    .colab-df-convert {\n",
              "      background-color: #E8F0FE;\n",
              "      border: none;\n",
              "      border-radius: 50%;\n",
              "      cursor: pointer;\n",
              "      display: none;\n",
              "      fill: #1967D2;\n",
              "      height: 32px;\n",
              "      padding: 0 0 0 0;\n",
              "      width: 32px;\n",
              "    }\n",
              "\n",
              "    .colab-df-convert:hover {\n",
              "      background-color: #E2EBFA;\n",
              "      box-shadow: 0px 1px 2px rgba(60, 64, 67, 0.3), 0px 1px 3px 1px rgba(60, 64, 67, 0.15);\n",
              "      fill: #174EA6;\n",
              "    }\n",
              "\n",
              "    [theme=dark] .colab-df-convert {\n",
              "      background-color: #3B4455;\n",
              "      fill: #D2E3FC;\n",
              "    }\n",
              "\n",
              "    [theme=dark] .colab-df-convert:hover {\n",
              "      background-color: #434B5C;\n",
              "      box-shadow: 0px 1px 3px 1px rgba(0, 0, 0, 0.15);\n",
              "      filter: drop-shadow(0px 1px 2px rgba(0, 0, 0, 0.3));\n",
              "      fill: #FFFFFF;\n",
              "    }\n",
              "  </style>\n",
              "\n",
              "      <script>\n",
              "        const buttonEl =\n",
              "          document.querySelector('#df-d938fe48-8117-42d0-b2e8-99f3a4f20db3 button.colab-df-convert');\n",
              "        buttonEl.style.display =\n",
              "          google.colab.kernel.accessAllowed ? 'block' : 'none';\n",
              "\n",
              "        async function convertToInteractive(key) {\n",
              "          const element = document.querySelector('#df-d938fe48-8117-42d0-b2e8-99f3a4f20db3');\n",
              "          const dataTable =\n",
              "            await google.colab.kernel.invokeFunction('convertToInteractive',\n",
              "                                                     [key], {});\n",
              "          if (!dataTable) return;\n",
              "\n",
              "          const docLinkHtml = 'Like what you see? Visit the ' +\n",
              "            '<a target=\"_blank\" href=https://colab.research.google.com/notebooks/data_table.ipynb>data table notebook</a>'\n",
              "            + ' to learn more about interactive tables.';\n",
              "          element.innerHTML = '';\n",
              "          dataTable['output_type'] = 'display_data';\n",
              "          await google.colab.output.renderOutput(dataTable, element);\n",
              "          const docLink = document.createElement('div');\n",
              "          docLink.innerHTML = docLinkHtml;\n",
              "          element.appendChild(docLink);\n",
              "        }\n",
              "      </script>\n",
              "    </div>\n",
              "  </div>\n",
              "  "
            ],
            "text/plain": [
              "        loss  accuracy  val_loss  val_accuracy\n",
              "0   0.582388  0.857073  0.317991        0.9076\n",
              "1   0.278161  0.921018  0.258350        0.9224\n",
              "2   0.228084  0.935873  0.213885        0.9370\n",
              "3   0.194566  0.944273  0.185119        0.9500\n",
              "4   0.169926  0.952055  0.165266        0.9504\n",
              "5   0.150215  0.957255  0.149782        0.9554\n",
              "6   0.134512  0.962018  0.138487        0.9596\n",
              "7   0.121252  0.965564  0.131113        0.9636\n",
              "8   0.110330  0.968709  0.121570        0.9652\n",
              "9   0.100562  0.971273  0.113558        0.9652\n",
              "10  0.092227  0.974400  0.106569        0.9700\n",
              "11  0.084747  0.976327  0.101715        0.9692\n",
              "12  0.078358  0.978418  0.098113        0.9720\n",
              "13  0.072099  0.980491  0.097498        0.9722\n",
              "14  0.067278  0.981873  0.092656        0.9714\n",
              "15  0.062256  0.983291  0.089669        0.9732\n",
              "16  0.058168  0.984400  0.086184        0.9752\n",
              "17  0.054239  0.986145  0.083507        0.9754\n",
              "18  0.050493  0.986945  0.081645        0.9744\n",
              "19  0.047306  0.987836  0.081140        0.9750\n",
              "20  0.044411  0.988800  0.079116        0.9770\n",
              "21  0.041509  0.989309  0.076689        0.9776\n",
              "22  0.039067  0.990164  0.078174        0.9786\n",
              "23  0.036571  0.991164  0.079393        0.9760\n",
              "24  0.034312  0.991673  0.074997        0.9780\n",
              "25  0.032488  0.992109  0.074649        0.9784\n",
              "26  0.030348  0.993291  0.073966        0.9786\n",
              "27  0.028782  0.993655  0.073727        0.9786\n",
              "28  0.026713  0.994091  0.072009        0.9788\n",
              "29  0.025420  0.994764  0.072121        0.9794\n",
              "30  0.023993  0.995164  0.070799        0.9796\n",
              "31  0.022315  0.995727  0.081068        0.9766\n",
              "32  0.021190  0.996182  0.070253        0.9806\n",
              "33  0.019958  0.996418  0.069569        0.9810\n",
              "34  0.018995  0.996745  0.069304        0.9798\n",
              "35  0.017804  0.997255  0.070649        0.9804\n",
              "36  0.016869  0.997564  0.068632        0.9792\n",
              "37  0.015915  0.997818  0.070386        0.9802\n",
              "38  0.015087  0.998018  0.068242        0.9798\n",
              "39  0.014108  0.998255  0.068560        0.9800\n",
              "40  0.013476  0.998345  0.067011        0.9802\n",
              "41  0.012859  0.998455  0.067230        0.9802\n",
              "42  0.012204  0.998800  0.068333        0.9806\n",
              "43  0.011526  0.998855  0.068932        0.9804\n",
              "44  0.011022  0.998836  0.069397        0.9800\n",
              "45  0.010457  0.999000  0.069261        0.9808\n",
              "46  0.010005  0.999218  0.068172        0.9812\n",
              "47  0.009530  0.999236  0.068797        0.9810\n",
              "48  0.009093  0.999382  0.067791        0.9806\n",
              "49  0.008739  0.999309  0.068485        0.9802"
            ]
          },
          "metadata": {},
          "execution_count": 18
        }
      ]
    },
    {
      "cell_type": "code",
      "source": [
        "histories.plot()"
      ],
      "metadata": {
        "colab": {
          "base_uri": "https://localhost:8080/",
          "height": 282
        },
        "id": "2MFL_Kusr042",
        "outputId": "e96736ea-005e-4b17-c683-c3e4dd1bcc32"
      },
      "execution_count": 19,
      "outputs": [
        {
          "output_type": "execute_result",
          "data": {
            "text/plain": [
              "<matplotlib.axes._subplots.AxesSubplot at 0x7f3a5e820090>"
            ]
          },
          "metadata": {},
          "execution_count": 19
        },
        {
          "output_type": "display_data",
          "data": {
            "image/png": "[encoded data removed]",
            "text/plain": [
              "<Figure size 432x288 with 1 Axes>"
            ]
          },
          "metadata": {
            "needs_background": "light"
          }
        }
      ]
    },
    {
      "cell_type": "code",
      "source": [
        "model.evaluate(X_test, Y_test)"
      ],
      "metadata": {
        "colab": {
          "base_uri": "https://localhost:8080/"
        },
        "id": "VMddvh8KsRmA",
        "outputId": "847d2eaa-6086-4eee-bd9d-b2a02e703ebd"
      },
      "execution_count": 21,
      "outputs": [
        {
          "output_type": "stream",
          "name": "stdout",
          "text": [
            "313/313 [==============================] - 1s 3ms/step - loss: 0.0634 - accuracy: 0.9817\n"
          ]
        },
        {
          "output_type": "execute_result",
          "data": {
            "text/plain": [
              "[0.06336044520139694, 0.9817000031471252]"
            ]
          },
          "metadata": {},
          "execution_count": 21
        }
      ]
    },
    {
      "cell_type": "markdown",
      "source": [
        "## Did the model finally become overfit?\n",
        "Well, no it didn't. Even after 50 epochs the model remained pretty consistent with accuracy and loss compared to the validation set. I think the issue is the data that is being tested on is too simple. There just isn't enough opportunity for the model to start getting overfit by becoming too precise.\n",
        "</br></br>At around epoch 35, the validation set bounces around an accuracy of 98 and 97 percent and remains pretty stable, while the training set reaches 99 percent accuracy. I don't think this discrepancy is large enough to be considered overfit.\n",
        "</br></br>To conclude, The ending model evaluation is loss : 0.0634 and accuracy : 0.9817. This is pretty much the value of the validation set on the 50th epoch when training for the second time. Therefore, I don't see the model becoming overfit any time soon.\n",
        "\n",
        "## Some of the misclassified images:"
      ],
      "metadata": {
        "id": "wrJxcqlcr6iB"
      }
    },
    {
      "cell_type": "code",
      "source": [
        "# using the code provided for showing misclassified images in the lesson notebook\n",
        "# it simply loops through and when an incorrect prediction is found, adds it to the\n",
        "# index of an array which is then shows.\n",
        "classes = ['0', '1', '2', '3', '4', '5', '6', '7', '8', '9']\n",
        "\n",
        "predictions = np.argmax(model.predict(X_test), axis=-1)\n",
        "misclassifiedIndexes = []\n",
        "index = 0\n",
        "for target, predict in zip(Y_test, predictions):\n",
        "  if target != predict:\n",
        "    misclassifiedIndexes.append(index)\n",
        "  index += 1\n",
        "\n",
        "misclassifiedIndexes\n",
        "\n",
        "plt.figure(figsize=(25,4))\n",
        "for index in range(5):\n",
        "  plt.subplot(1,5,index+1)\n",
        "  plt.imshow(X_test[misclassifiedIndexes[index]].reshape(28,28), cmap='binary')\n",
        "  plt.axis('off')\n",
        "  plt.title(f'Target: {classes[Y_test[misclassifiedIndexes[index]]]}    Predicted: {classes[predictions[misclassifiedIndexes[index]]]}', fontsize=14)\n",
        "\n",
        "plt.show()"
      ],
      "metadata": {
        "colab": {
          "base_uri": "https://localhost:8080/",
          "height": 265
        },
        "id": "w5t7o_lpuLSC",
        "outputId": "1d4be8b6-b0e2-40be-fdcd-d6786f8dfc58"
      },
      "execution_count": 23,
      "outputs": [
        {
          "output_type": "display_data",
          "data": {
            "image/png": "[encoded data removed]",
            "text/plain": [
              "<Figure size 1800x288 with 5 Axes>"
            ]
          },
          "metadata": {
            "needs_background": "light"
          }
        }
      ]
    },
    {
      "cell_type": "code",
      "source": [
        ""
      ],
      "metadata": {
        "id": "UHszXLsByiqw"
      },
      "execution_count": null,
      "outputs": []
    },
    {
      "cell_type": "markdown",
      "source": [
        "# Part 2: Modifying the model\n",
        "Since the model is extremely accurate already, instead of trying to change the model to be more accurate, I will instead alter the model to see what affects different architecures will have. I'll attempt to make a model with a lot of layers but fewer neurons, then a model with lots of neurons but not focused on the number of layers.\n",
        "## The model with many layers"
      ],
      "metadata": {
        "id": "23VaewqluEER"
      }
    },
    {
      "cell_type": "code",
      "source": [
        "# Model 2 focused on having many layers with fewer neurons\n",
        "model_2 = keras.models.Sequential()\n",
        "model_2.add(keras.layers.Dense(100, activation=\"relu\", input_shape=(784,), name=\"First_Hidden_Layer\"))\n",
        "model_2.add(keras.layers.Dense(100, activation=\"relu\", name=\"Second_Hidden_Layer\"))\n",
        "model_2.add(keras.layers.Dense(100, activation=\"relu\", name=\"Third_Hidden_Layer\"))\n",
        "model_2.add(keras.layers.Dense(100, activation=\"relu\", name=\"Fourth_Hidden_Layer\"))\n",
        "model_2.add(keras.layers.Dense(100, activation=\"relu\", name=\"Fifth_Hidden_Layer\"))\n",
        "model_2.add(keras.layers.Dense(100, activation=\"relu\", name=\"Sixth_Hidden_Layer\"))\n",
        "model_2.add(keras.layers.Dense(100, activation=\"relu\", name=\"Seventh_Hidden_Layer\"))\n",
        "model_2.add(keras.layers.Dense(100, activation=\"relu\", name=\"Eighth_Hidden_Layer\"))\n",
        "model_2.add(keras.layers.Dense(100, activation=\"relu\", name=\"Ninth_Hidden_Layer\"))\n",
        "model_2.add(keras.layers.Dense(100, activation=\"relu\", name=\"Tenth_Hidden_Layer\"))\n",
        "model_2.add(keras.layers.Dense(10, activation=\"softmax\", name=\"Output_Layer\"))"
      ],
      "metadata": {
        "id": "1RYXj1dIysUS"
      },
      "execution_count": 24,
      "outputs": []
    },
    {
      "cell_type": "code",
      "source": [
        "# Validate the model was created properly. We can see the params are a lot smaller\n",
        "# than on the first model\n",
        "model_2.summary()"
      ],
      "metadata": {
        "colab": {
          "base_uri": "https://localhost:8080/"
        },
        "id": "GPOMc_zNzSYp",
        "outputId": "8574dfa0-9261-4519-b2d2-abebe7d6af2e"
      },
      "execution_count": 29,
      "outputs": [
        {
          "output_type": "stream",
          "name": "stdout",
          "text": [
            "Model: \"sequential_1\"\n",
            "_________________________________________________________________\n",
            " Layer (type)                Output Shape              Param #   \n",
            "=================================================================\n",
            " First_Hidden_Layer (Dense)  (None, 100)               78500     \n",
            "                                                                 \n",
            " Second_Hidden_Layer (Dense)  (None, 100)              10100     \n",
            "                                                                 \n",
            " Third_Hidden_Layer (Dense)  (None, 100)               10100     \n",
            "                                                                 \n",
            " Fourth_Hidden_Layer (Dense)  (None, 100)              10100     \n",
            "                                                                 \n",
            " Fifth_Hidden_Layer (Dense)  (None, 100)               10100     \n",
            "                                                                 \n",
            " Sixth_Hidden_Layer (Dense)  (None, 100)               10100     \n",
            "                                                                 \n",
            " Seventh_Hidden_Layer (Dense  (None, 100)              10100     \n",
            " )                                                               \n",
            "                                                                 \n",
            " Eighth_Hidden_Layer (Dense)  (None, 100)              10100     \n",
            "                                                                 \n",
            " Ninth_Hidden_Layer (Dense)  (None, 100)               10100     \n",
            "                                                                 \n",
            " Tenth_Hidden_Layer (Dense)  (None, 100)               10100     \n",
            "                                                                 \n",
            " Output_Layer (Dense)        (None, 10)                1010      \n",
            "                                                                 \n",
            "=================================================================\n",
            "Total params: 170,410\n",
            "Trainable params: 170,410\n",
            "Non-trainable params: 0\n",
            "_________________________________________________________________\n"
          ]
        }
      ]
    },
    {
      "cell_type": "code",
      "source": [
        "# Complie model 2 using the same specs as the first model\n",
        "model_2.compile(loss=\"sparse_categorical_crossentropy\", optimizer=\"sgd\", metrics=[\"accuracy\"])"
      ],
      "metadata": {
        "id": "A7QoaouKz30z"
      },
      "execution_count": 31,
      "outputs": []
    },
    {
      "cell_type": "code",
      "source": [
        "# We saw there wasn'tmuch of a point in going past 30 epochs for the last model\n",
        "# so for this model we will go under the same assumption\n",
        "model_2_history = model_2.fit(X_train_tr, y_train_tr, epochs=30, batch_size=32, validation_data=(X_train_v, y_train_v))"
      ],
      "metadata": {
        "colab": {
          "base_uri": "https://localhost:8080/"
        },
        "id": "xuzTxP3D0D4U",
        "outputId": "5abff21b-2274-46dd-86a6-641430cd5429"
      },
      "execution_count": 33,
      "outputs": [
        {
          "output_type": "stream",
          "name": "stdout",
          "text": [
            "Epoch 1/30\n",
            "1719/1719 [==============================] - 10s 5ms/step - loss: 1.5962 - accuracy: 0.4460 - val_loss: 0.4754 - val_accuracy: 0.8484\n",
            "Epoch 2/30\n",
            "1719/1719 [==============================] - 9s 5ms/step - loss: 0.3269 - accuracy: 0.9018 - val_loss: 0.2979 - val_accuracy: 0.9074\n",
            "Epoch 3/30\n",
            "1719/1719 [==============================] - 9s 5ms/step - loss: 0.1971 - accuracy: 0.9423 - val_loss: 0.1712 - val_accuracy: 0.9500\n",
            "Epoch 4/30\n",
            "1719/1719 [==============================] - 9s 5ms/step - loss: 0.1488 - accuracy: 0.9556 - val_loss: 0.2025 - val_accuracy: 0.9398\n",
            "Epoch 5/30\n",
            "1719/1719 [==============================] - 10s 6ms/step - loss: 0.1225 - accuracy: 0.9635 - val_loss: 0.1342 - val_accuracy: 0.9620\n",
            "Epoch 6/30\n",
            "1719/1719 [==============================] - 10s 6ms/step - loss: 0.1001 - accuracy: 0.9707 - val_loss: 0.1246 - val_accuracy: 0.9642\n",
            "Epoch 7/30\n",
            "1719/1719 [==============================] - 9s 5ms/step - loss: 0.0861 - accuracy: 0.9745 - val_loss: 0.1220 - val_accuracy: 0.9658\n",
            "Epoch 8/30\n",
            "1719/1719 [==============================] - 9s 5ms/step - loss: 0.0756 - accuracy: 0.9773 - val_loss: 0.1147 - val_accuracy: 0.9662\n",
            "Epoch 9/30\n",
            "1719/1719 [==============================] - 9s 5ms/step - loss: 0.0664 - accuracy: 0.9796 - val_loss: 0.1134 - val_accuracy: 0.9670\n",
            "Epoch 10/30\n",
            "1719/1719 [==============================] - 9s 5ms/step - loss: 0.0584 - accuracy: 0.9824 - val_loss: 0.1531 - val_accuracy: 0.9560\n",
            "Epoch 11/30\n",
            "1719/1719 [==============================] - 9s 5ms/step - loss: 0.0514 - accuracy: 0.9843 - val_loss: 0.1101 - val_accuracy: 0.9704\n",
            "Epoch 12/30\n",
            "1719/1719 [==============================] - 9s 5ms/step - loss: 0.0449 - accuracy: 0.9861 - val_loss: 0.1111 - val_accuracy: 0.9694\n",
            "Epoch 13/30\n",
            "1719/1719 [==============================] - 9s 5ms/step - loss: 0.0409 - accuracy: 0.9876 - val_loss: 0.1189 - val_accuracy: 0.9680\n",
            "Epoch 14/30\n",
            "1719/1719 [==============================] - 9s 5ms/step - loss: 0.0344 - accuracy: 0.9894 - val_loss: 0.1241 - val_accuracy: 0.9696\n",
            "Epoch 15/30\n",
            "1719/1719 [==============================] - 9s 6ms/step - loss: 0.0331 - accuracy: 0.9903 - val_loss: 0.1101 - val_accuracy: 0.9718\n",
            "Epoch 16/30\n",
            "1719/1719 [==============================] - 9s 5ms/step - loss: 0.0277 - accuracy: 0.9917 - val_loss: 0.1588 - val_accuracy: 0.9572\n",
            "Epoch 17/30\n",
            "1719/1719 [==============================] - 9s 5ms/step - loss: 0.0267 - accuracy: 0.9916 - val_loss: 0.1204 - val_accuracy: 0.9706\n",
            "Epoch 18/30\n",
            "1719/1719 [==============================] - 9s 5ms/step - loss: 0.0233 - accuracy: 0.9932 - val_loss: 0.1146 - val_accuracy: 0.9734\n",
            "Epoch 19/30\n",
            "1719/1719 [==============================] - 9s 5ms/step - loss: 0.0205 - accuracy: 0.9940 - val_loss: 0.1173 - val_accuracy: 0.9740\n",
            "Epoch 20/30\n",
            "1719/1719 [==============================] - 9s 5ms/step - loss: 0.0197 - accuracy: 0.9938 - val_loss: 0.1202 - val_accuracy: 0.9732\n",
            "Epoch 21/30\n",
            "1719/1719 [==============================] - 9s 5ms/step - loss: 0.0163 - accuracy: 0.9952 - val_loss: 0.1358 - val_accuracy: 0.9724\n",
            "Epoch 22/30\n",
            "1719/1719 [==============================] - 9s 5ms/step - loss: 0.0181 - accuracy: 0.9943 - val_loss: 0.1228 - val_accuracy: 0.9724\n",
            "Epoch 23/30\n",
            "1719/1719 [==============================] - 10s 6ms/step - loss: 0.0175 - accuracy: 0.9943 - val_loss: 0.1350 - val_accuracy: 0.9696\n",
            "Epoch 24/30\n",
            "1719/1719 [==============================] - 9s 6ms/step - loss: 0.0142 - accuracy: 0.9956 - val_loss: 0.1384 - val_accuracy: 0.9694\n",
            "Epoch 25/30\n",
            "1719/1719 [==============================] - 9s 5ms/step - loss: 0.0129 - accuracy: 0.9962 - val_loss: 0.1434 - val_accuracy: 0.9702\n",
            "Epoch 26/30\n",
            "1719/1719 [==============================] - 10s 6ms/step - loss: 0.0100 - accuracy: 0.9971 - val_loss: 0.1401 - val_accuracy: 0.9726\n",
            "Epoch 27/30\n",
            "1719/1719 [==============================] - 9s 5ms/step - loss: 0.0096 - accuracy: 0.9972 - val_loss: 0.1413 - val_accuracy: 0.9704\n",
            "Epoch 28/30\n",
            "1719/1719 [==============================] - 9s 5ms/step - loss: 0.0112 - accuracy: 0.9967 - val_loss: 0.1284 - val_accuracy: 0.9752\n",
            "Epoch 29/30\n",
            "1719/1719 [==============================] - 9s 5ms/step - loss: 0.0067 - accuracy: 0.9983 - val_loss: 0.1291 - val_accuracy: 0.9766\n",
            "Epoch 30/30\n",
            "1719/1719 [==============================] - 9s 5ms/step - loss: 0.0116 - accuracy: 0.9966 - val_loss: 0.1339 - val_accuracy: 0.9746\n"
          ]
        }
      ]
    },
    {
      "cell_type": "code",
      "source": [
        "model_2_graph = pd.DataFrame(model_2_history.history).plot(figsize=(10,7))"
      ],
      "metadata": {
        "colab": {
          "base_uri": "https://localhost:8080/",
          "height": 428
        },
        "id": "WPnD2fFG2CJo",
        "outputId": "60862efa-a697-4f0b-ab52-5cde172aed2d"
      },
      "execution_count": 40,
      "outputs": [
        {
          "output_type": "display_data",
          "data": {
            "image/png": "[encoded data removed]",
            "text/plain": [
              "<Figure size 720x504 with 1 Axes>"
            ]
          },
          "metadata": {
            "needs_background": "light"
          }
        }
      ]
    },
    {
      "cell_type": "code",
      "source": [
        "model_2.evaluate(X_test, Y_test)"
      ],
      "metadata": {
        "colab": {
          "base_uri": "https://localhost:8080/"
        },
        "id": "xkkK20NB2ZRv",
        "outputId": "d18223b0-b6b0-4cff-b762-ab9b4ead165e"
      },
      "execution_count": 35,
      "outputs": [
        {
          "output_type": "stream",
          "name": "stdout",
          "text": [
            "313/313 [==============================] - 1s 4ms/step - loss: 0.1263 - accuracy: 0.9746\n"
          ]
        },
        {
          "output_type": "execute_result",
          "data": {
            "text/plain": [
              "[0.12625090777873993, 0.9746000170707703]"
            ]
          },
          "metadata": {},
          "execution_count": 35
        }
      ]
    },
    {
      "cell_type": "code",
      "source": [
        "predictions = np.argmax(model_2.predict(X_test), axis=-1)\n",
        "misclassifiedIndexes = []\n",
        "index = 0\n",
        "for target, predict in zip(Y_test, predictions):\n",
        "  if target != predict:\n",
        "    misclassifiedIndexes.append(index)\n",
        "  index += 1\n",
        "\n",
        "misclassifiedIndexes\n",
        "\n",
        "plt.figure(figsize=(25,4))\n",
        "for index in range(5):\n",
        "  plt.subplot(1,5,index+1)\n",
        "  plt.imshow(X_test[misclassifiedIndexes[index]].reshape(28,28), cmap='binary')\n",
        "  plt.axis('off')\n",
        "  plt.title(f'Target: {classes[Y_test[misclassifiedIndexes[index]]]}    Predicted: {classes[predictions[misclassifiedIndexes[index]]]}', fontsize=14)\n",
        "\n",
        "plt.show()"
      ],
      "metadata": {
        "colab": {
          "base_uri": "https://localhost:8080/",
          "height": 265
        },
        "id": "58Et00Nr5vd-",
        "outputId": "32080976-5bb3-435e-b29f-8b742cc453fe"
      },
      "execution_count": 39,
      "outputs": [
        {
          "output_type": "display_data",
          "data": {
            "image/png": "[encoded data removed]",
            "text/plain": [
              "<Figure size 1800x288 with 5 Axes>"
            ]
          },
          "metadata": {
            "needs_background": "light"
          }
        }
      ]
    },
    {
      "cell_type": "markdown",
      "source": [
        "## Evaluating Model 2\n",
        "Comparing this model to the original model, it appears like this model is more inconsistent. The model starts off very unstable but quickly becomes more reliable in correctly identifying the numbers after around 4 epochs. The accuracy of the training model is actually very consistent with the previous model, but when compared to the validation model, it falls short. The training time of the model was also very similar to the first model, only 3 seconds longer per epoch.\n",
        "</br></br>The values that were incorrectly predicted are actually a little more obvious than the prvious model. The 4th listed entry from the plot clearly shows a '9'. Any human could tell it's a 9 and there isn't much reason as to how it could be confused for a '3'. More mistakes like these are probably made due to the higher loss rate of this model.\n",
        "</br></br>The validation set's accuracy is only about 1% less effective from the previous model, however the loss is almost double that of the previous. This is probably due to the weights on the hidden layers. This model and the prvious model both become pretty consistent around the 4-5 epoch mark, which means overall there isn't much of a difference in how the model performs. This second model is a little less consistent, but not enough to be very notable. I suspect that the lack of large differences might be due to the simplicity of the data set.\n",
        "\n",
        "## The model with Many Neurons"
      ],
      "metadata": {
        "id": "2UyTvrXp3K1p"
      }
    },
    {
      "cell_type": "code",
      "source": [
        "# Model 3 focused on many neurons but not a lot of layers\n",
        "model_3 = keras.models.Sequential()\n",
        "model_3.add(keras.layers.Dense(5000, activation=\"relu\", input_shape=(784,), name=\"First_Hidden_Layer\"))\n",
        "model_3.add(keras.layers.Dense(5000, activation=\"relu\", name=\"Second_Hidden_Layer\"))\n",
        "model_3.add(keras.layers.Dense(10, activation=\"softmax\", name=\"Output_Layer\"))\n",
        "model_3.compile(loss=\"sparse_categorical_crossentropy\", optimizer=\"sgd\", metrics=[\"accuracy\"])\n",
        "model_3_history = model_3.fit(X_train_tr, y_train_tr, epochs=30, batch_size=32, validation_data=(X_train_v, y_train_v))"
      ],
      "metadata": {
        "colab": {
          "base_uri": "https://localhost:8080/"
        },
        "id": "55gzzuR65n4u",
        "outputId": "3e6f4a2d-3eef-46cc-ee4e-e0db82157282"
      },
      "execution_count": 41,
      "outputs": [
        {
          "output_type": "stream",
          "name": "stdout",
          "text": [
            "Epoch 1/30\n",
            "1719/1719 [==============================] - 21s 12ms/step - loss: 0.5262 - accuracy: 0.8734 - val_loss: 0.3008 - val_accuracy: 0.9130\n",
            "Epoch 2/30\n",
            "1719/1719 [==============================] - 21s 12ms/step - loss: 0.2612 - accuracy: 0.9268 - val_loss: 0.2417 - val_accuracy: 0.9272\n",
            "Epoch 3/30\n",
            "1719/1719 [==============================] - 20s 12ms/step - loss: 0.2118 - accuracy: 0.9405 - val_loss: 0.1981 - val_accuracy: 0.9426\n",
            "Epoch 4/30\n",
            "1719/1719 [==============================] - 22s 13ms/step - loss: 0.1784 - accuracy: 0.9499 - val_loss: 0.1682 - val_accuracy: 0.9546\n",
            "Epoch 5/30\n",
            "1719/1719 [==============================] - 21s 12ms/step - loss: 0.1542 - accuracy: 0.9571 - val_loss: 0.1500 - val_accuracy: 0.9590\n",
            "Epoch 6/30\n",
            "1719/1719 [==============================] - 21s 12ms/step - loss: 0.1347 - accuracy: 0.9622 - val_loss: 0.1347 - val_accuracy: 0.9630\n",
            "Epoch 7/30\n",
            "1719/1719 [==============================] - 21s 12ms/step - loss: 0.1193 - accuracy: 0.9671 - val_loss: 0.1248 - val_accuracy: 0.9658\n",
            "Epoch 8/30\n",
            "1719/1719 [==============================] - 20s 12ms/step - loss: 0.1066 - accuracy: 0.9704 - val_loss: 0.1179 - val_accuracy: 0.9678\n",
            "Epoch 9/30\n",
            "1719/1719 [==============================] - 20s 12ms/step - loss: 0.0962 - accuracy: 0.9731 - val_loss: 0.1092 - val_accuracy: 0.9710\n",
            "Epoch 10/30\n",
            "1719/1719 [==============================] - 21s 12ms/step - loss: 0.0868 - accuracy: 0.9763 - val_loss: 0.1015 - val_accuracy: 0.9728\n",
            "Epoch 11/30\n",
            "1719/1719 [==============================] - 21s 12ms/step - loss: 0.0788 - accuracy: 0.9786 - val_loss: 0.0954 - val_accuracy: 0.9740\n",
            "Epoch 12/30\n",
            "1719/1719 [==============================] - 20s 12ms/step - loss: 0.0720 - accuracy: 0.9805 - val_loss: 0.0914 - val_accuracy: 0.9756\n",
            "Epoch 13/30\n",
            "1719/1719 [==============================] - 21s 12ms/step - loss: 0.0661 - accuracy: 0.9826 - val_loss: 0.0879 - val_accuracy: 0.9752\n",
            "Epoch 14/30\n",
            "1719/1719 [==============================] - 21s 12ms/step - loss: 0.0602 - accuracy: 0.9845 - val_loss: 0.0873 - val_accuracy: 0.9748\n",
            "Epoch 15/30\n",
            "1719/1719 [==============================] - 21s 12ms/step - loss: 0.0558 - accuracy: 0.9852 - val_loss: 0.0831 - val_accuracy: 0.9768\n",
            "Epoch 16/30\n",
            "1719/1719 [==============================] - 20s 12ms/step - loss: 0.0512 - accuracy: 0.9870 - val_loss: 0.0808 - val_accuracy: 0.9772\n",
            "Epoch 17/30\n",
            "1719/1719 [==============================] - 21s 12ms/step - loss: 0.0474 - accuracy: 0.9881 - val_loss: 0.0778 - val_accuracy: 0.9784\n",
            "Epoch 18/30\n",
            "1719/1719 [==============================] - 21s 12ms/step - loss: 0.0438 - accuracy: 0.9893 - val_loss: 0.0762 - val_accuracy: 0.9786\n",
            "Epoch 19/30\n",
            "1719/1719 [==============================] - 21s 12ms/step - loss: 0.0406 - accuracy: 0.9904 - val_loss: 0.0740 - val_accuracy: 0.9778\n",
            "Epoch 20/30\n",
            "1719/1719 [==============================] - 21s 12ms/step - loss: 0.0377 - accuracy: 0.9911 - val_loss: 0.0737 - val_accuracy: 0.9780\n",
            "Epoch 21/30\n",
            "1719/1719 [==============================] - 21s 12ms/step - loss: 0.0351 - accuracy: 0.9917 - val_loss: 0.0718 - val_accuracy: 0.9800\n",
            "Epoch 22/30\n",
            "1719/1719 [==============================] - 21s 12ms/step - loss: 0.0324 - accuracy: 0.9927 - val_loss: 0.0694 - val_accuracy: 0.9796\n",
            "Epoch 23/30\n",
            "1719/1719 [==============================] - 21s 12ms/step - loss: 0.0303 - accuracy: 0.9933 - val_loss: 0.0721 - val_accuracy: 0.9792\n",
            "Epoch 24/30\n",
            "1719/1719 [==============================] - 21s 12ms/step - loss: 0.0280 - accuracy: 0.9937 - val_loss: 0.0738 - val_accuracy: 0.9776\n",
            "Epoch 25/30\n",
            "1719/1719 [==============================] - 21s 12ms/step - loss: 0.0261 - accuracy: 0.9947 - val_loss: 0.0690 - val_accuracy: 0.9796\n",
            "Epoch 26/30\n",
            "1719/1719 [==============================] - 21s 12ms/step - loss: 0.0245 - accuracy: 0.9952 - val_loss: 0.0679 - val_accuracy: 0.9788\n",
            "Epoch 27/30\n",
            "1719/1719 [==============================] - 21s 12ms/step - loss: 0.0227 - accuracy: 0.9960 - val_loss: 0.0681 - val_accuracy: 0.9794\n",
            "Epoch 28/30\n",
            "1719/1719 [==============================] - 21s 12ms/step - loss: 0.0213 - accuracy: 0.9960 - val_loss: 0.0676 - val_accuracy: 0.9796\n",
            "Epoch 29/30\n",
            "1719/1719 [==============================] - 21s 12ms/step - loss: 0.0197 - accuracy: 0.9967 - val_loss: 0.0659 - val_accuracy: 0.9804\n",
            "Epoch 30/30\n",
            "1719/1719 [==============================] - 21s 12ms/step - loss: 0.0186 - accuracy: 0.9971 - val_loss: 0.0672 - val_accuracy: 0.9804\n"
          ]
        }
      ]
    },
    {
      "cell_type": "code",
      "source": [
        "model_3_graph = pd.DataFrame(model_3_history.history).plot(figsize=(10,7))"
      ],
      "metadata": {
        "colab": {
          "base_uri": "https://localhost:8080/",
          "height": 428
        },
        "id": "1k-RSjhG9hFH",
        "outputId": "ca8919f8-c7a0-41df-9cc7-f4aeb1800f8b"
      },
      "execution_count": 42,
      "outputs": [
        {
          "output_type": "display_data",
          "data": {
            "image/png": "[encoded data removed]",
            "text/plain": [
              "<Figure size 720x504 with 1 Axes>"
            ]
          },
          "metadata": {
            "needs_background": "light"
          }
        }
      ]
    },
    {
      "cell_type": "code",
      "source": [
        "model_3.evaluate(X_test, Y_test)"
      ],
      "metadata": {
        "colab": {
          "base_uri": "https://localhost:8080/"
        },
        "id": "uA6KHBLR9kgC",
        "outputId": "c578c03d-0690-449b-d1d8-eedddf5fff3a"
      },
      "execution_count": 43,
      "outputs": [
        {
          "output_type": "stream",
          "name": "stdout",
          "text": [
            "313/313 [==============================] - 2s 7ms/step - loss: 0.0617 - accuracy: 0.9801\n"
          ]
        },
        {
          "output_type": "execute_result",
          "data": {
            "text/plain": [
              "[0.06165778264403343, 0.9800999760627747]"
            ]
          },
          "metadata": {},
          "execution_count": 43
        }
      ]
    },
    {
      "cell_type": "code",
      "source": [
        "predictions = np.argmax(model_3.predict(X_test), axis=-1)\n",
        "misclassifiedIndexes = []\n",
        "index = 0\n",
        "for target, predict in zip(Y_test, predictions):\n",
        "  if target != predict:\n",
        "    misclassifiedIndexes.append(index)\n",
        "  index += 1\n",
        "\n",
        "misclassifiedIndexes\n",
        "\n",
        "plt.figure(figsize=(25,4))\n",
        "for index in range(5):\n",
        "  plt.subplot(1,5,index+1)\n",
        "  plt.imshow(X_test[misclassifiedIndexes[index]].reshape(28,28), cmap='binary')\n",
        "  plt.axis('off')\n",
        "  plt.title(f'Target: {classes[Y_test[misclassifiedIndexes[index]]]}    Predicted: {classes[predictions[misclassifiedIndexes[index]]]}', fontsize=14)\n",
        "\n",
        "plt.show()"
      ],
      "metadata": {
        "colab": {
          "base_uri": "https://localhost:8080/",
          "height": 265
        },
        "id": "X2WK5GyH-zjY",
        "outputId": "0afc3e4f-aab0-473d-e3c1-a8145a87dc36"
      },
      "execution_count": 44,
      "outputs": [
        {
          "output_type": "display_data",
          "data": {
            "image/png": "[encoded data removed]",
            "text/plain": [
              "<Figure size 1800x288 with 5 Axes>"
            ]
          },
          "metadata": {
            "needs_background": "light"
          }
        }
      ]
    },
    {
      "cell_type": "markdown",
      "source": [
        "# Evaluating Model 3\n",
        "This model doesn't seem to perform much differently from the first model. The ending summary for this model is</br>loss: 0.0617 - accuracy: 0.9801</br> and the original model is</br>loss: 0.0634 - accuracy: 0.9817</br>so honestly there isn't much of a difference at all even though there are 10 times the amount of neurons per layer. The errors made by this model are also similar to the original model.</br></br>One huge difference in this model is the time it took to complete each epoch at 20 seconds vs. the original model's 7 seconds. Other than the time however, the models seem to stabilize around the same epoch and have the same performance, so increasing the amount of neurons had no notable effect. Could this be because the model before already had a sufficient amount of neurons at a number of 500? Is anything over 500 neurons per layer overkill and simply a waste of time and efficiency? I will create one final model that combines both increased neurons and layers to see if I can conclude how number of layers and number of neurons affect the model.\n",
        "## Combination Model"
      ],
      "metadata": {
        "id": "a4cokxMt9Zn9"
      }
    },
    {
      "cell_type": "code",
      "source": [
        "# Model 4 with a combination of more neurons and more layers\n",
        "model_4 = keras.models.Sequential()\n",
        "model_4.add(keras.layers.Dense(2500, activation=\"relu\", input_shape=(784,), name=\"First_Hidden_Layer\"))\n",
        "model_4.add(keras.layers.Dense(2000, activation=\"relu\", name=\"Second_Hidden_Layer\"))\n",
        "model_4.add(keras.layers.Dense(1500, activation=\"relu\", name=\"Third_Hidden_Layer\"))\n",
        "model_4.add(keras.layers.Dense(1000, activation=\"relu\", name=\"Fourth_Hidden_Layer\"))\n",
        "model_4.add(keras.layers.Dense(500, activation=\"relu\", name=\"Fifth_Hidden_Layer\"))\n",
        "model_4.add(keras.layers.Dense(10, activation=\"softmax\", name=\"Output_Layer\"))\n",
        "model_4.compile(loss=\"sparse_categorical_crossentropy\", optimizer=\"sgd\", metrics=[\"accuracy\"])\n",
        "model_4_history = model_4.fit(X_train_tr, y_train_tr, epochs=30, batch_size=32, validation_data=(X_train_v, y_train_v))"
      ],
      "metadata": {
        "colab": {
          "base_uri": "https://localhost:8080/"
        },
        "id": "g-X-Cjq__m9J",
        "outputId": "1a09ed1b-9c19-4f08-8b95-5640b647e1eb"
      },
      "execution_count": 45,
      "outputs": [
        {
          "output_type": "stream",
          "name": "stdout",
          "text": [
            "Epoch 1/30\n",
            "1719/1719 [==============================] - 15s 8ms/step - loss: 0.5227 - accuracy: 0.8633 - val_loss: 0.2386 - val_accuracy: 0.9258\n",
            "Epoch 2/30\n",
            "1719/1719 [==============================] - 14s 8ms/step - loss: 0.1948 - accuracy: 0.9430 - val_loss: 0.1941 - val_accuracy: 0.9440\n",
            "Epoch 3/30\n",
            "1719/1719 [==============================] - 14s 8ms/step - loss: 0.1381 - accuracy: 0.9593 - val_loss: 0.1250 - val_accuracy: 0.9658\n",
            "Epoch 4/30\n",
            "1719/1719 [==============================] - 14s 8ms/step - loss: 0.1031 - accuracy: 0.9701 - val_loss: 0.1014 - val_accuracy: 0.9720\n",
            "Epoch 5/30\n",
            "1719/1719 [==============================] - 14s 8ms/step - loss: 0.0821 - accuracy: 0.9761 - val_loss: 0.0917 - val_accuracy: 0.9740\n",
            "Epoch 6/30\n",
            "1719/1719 [==============================] - 14s 8ms/step - loss: 0.0641 - accuracy: 0.9812 - val_loss: 0.0869 - val_accuracy: 0.9728\n",
            "Epoch 7/30\n",
            "1719/1719 [==============================] - 14s 8ms/step - loss: 0.0504 - accuracy: 0.9858 - val_loss: 0.0778 - val_accuracy: 0.9762\n",
            "Epoch 8/30\n",
            "1719/1719 [==============================] - 14s 8ms/step - loss: 0.0402 - accuracy: 0.9886 - val_loss: 0.0749 - val_accuracy: 0.9774\n",
            "Epoch 9/30\n",
            "1719/1719 [==============================] - 14s 8ms/step - loss: 0.0315 - accuracy: 0.9917 - val_loss: 0.0837 - val_accuracy: 0.9766\n",
            "Epoch 10/30\n",
            "1719/1719 [==============================] - 14s 8ms/step - loss: 0.0242 - accuracy: 0.9938 - val_loss: 0.0701 - val_accuracy: 0.9810\n",
            "Epoch 11/30\n",
            "1719/1719 [==============================] - 14s 8ms/step - loss: 0.0188 - accuracy: 0.9953 - val_loss: 0.0686 - val_accuracy: 0.9788\n",
            "Epoch 12/30\n",
            "1719/1719 [==============================] - 14s 8ms/step - loss: 0.0144 - accuracy: 0.9966 - val_loss: 0.0702 - val_accuracy: 0.9804\n",
            "Epoch 13/30\n",
            "1719/1719 [==============================] - 14s 8ms/step - loss: 0.0105 - accuracy: 0.9982 - val_loss: 0.0733 - val_accuracy: 0.9800\n",
            "Epoch 14/30\n",
            "1719/1719 [==============================] - 14s 8ms/step - loss: 0.0082 - accuracy: 0.9987 - val_loss: 0.0713 - val_accuracy: 0.9788\n",
            "Epoch 15/30\n",
            "1719/1719 [==============================] - 14s 8ms/step - loss: 0.0061 - accuracy: 0.9993 - val_loss: 0.0731 - val_accuracy: 0.9800\n",
            "Epoch 16/30\n",
            "1719/1719 [==============================] - 14s 8ms/step - loss: 0.0041 - accuracy: 0.9997 - val_loss: 0.0728 - val_accuracy: 0.9806\n",
            "Epoch 17/30\n",
            "1719/1719 [==============================] - 14s 8ms/step - loss: 0.0033 - accuracy: 0.9998 - val_loss: 0.0702 - val_accuracy: 0.9826\n",
            "Epoch 18/30\n",
            "1719/1719 [==============================] - 14s 8ms/step - loss: 0.0024 - accuracy: 0.9999 - val_loss: 0.0712 - val_accuracy: 0.9818\n",
            "Epoch 19/30\n",
            "1719/1719 [==============================] - 14s 8ms/step - loss: 0.0020 - accuracy: 1.0000 - val_loss: 0.0723 - val_accuracy: 0.9818\n",
            "Epoch 20/30\n",
            "1719/1719 [==============================] - 14s 8ms/step - loss: 0.0016 - accuracy: 1.0000 - val_loss: 0.0741 - val_accuracy: 0.9804\n",
            "Epoch 21/30\n",
            "1719/1719 [==============================] - 14s 8ms/step - loss: 0.0014 - accuracy: 1.0000 - val_loss: 0.0742 - val_accuracy: 0.9826\n",
            "Epoch 22/30\n",
            "1719/1719 [==============================] - 14s 8ms/step - loss: 0.0012 - accuracy: 1.0000 - val_loss: 0.0751 - val_accuracy: 0.9824\n",
            "Epoch 23/30\n",
            "1719/1719 [==============================] - 14s 8ms/step - loss: 0.0011 - accuracy: 1.0000 - val_loss: 0.0777 - val_accuracy: 0.9822\n",
            "Epoch 24/30\n",
            "1719/1719 [==============================] - 14s 8ms/step - loss: 9.5943e-04 - accuracy: 1.0000 - val_loss: 0.0775 - val_accuracy: 0.9814\n",
            "Epoch 25/30\n",
            "1719/1719 [==============================] - 14s 8ms/step - loss: 8.7439e-04 - accuracy: 1.0000 - val_loss: 0.0779 - val_accuracy: 0.9814\n",
            "Epoch 26/30\n",
            "1719/1719 [==============================] - 14s 8ms/step - loss: 7.9353e-04 - accuracy: 1.0000 - val_loss: 0.0781 - val_accuracy: 0.9810\n",
            "Epoch 27/30\n",
            "1719/1719 [==============================] - 14s 8ms/step - loss: 7.3572e-04 - accuracy: 1.0000 - val_loss: 0.0793 - val_accuracy: 0.9808\n",
            "Epoch 28/30\n",
            "1719/1719 [==============================] - 14s 8ms/step - loss: 6.7789e-04 - accuracy: 1.0000 - val_loss: 0.0795 - val_accuracy: 0.9816\n",
            "Epoch 29/30\n",
            "1719/1719 [==============================] - 14s 8ms/step - loss: 6.3260e-04 - accuracy: 1.0000 - val_loss: 0.0790 - val_accuracy: 0.9814\n",
            "Epoch 30/30\n",
            "1719/1719 [==============================] - 14s 8ms/step - loss: 5.9339e-04 - accuracy: 1.0000 - val_loss: 0.0807 - val_accuracy: 0.9810\n"
          ]
        }
      ]
    },
    {
      "cell_type": "code",
      "source": [
        "model_4_graph = pd.DataFrame(model_4_history.history).plot(figsize=(10,7))"
      ],
      "metadata": {
        "colab": {
          "base_uri": "https://localhost:8080/",
          "height": 428
        },
        "id": "Qausgm4NBscV",
        "outputId": "0bea3ba4-4fb7-45f6-820c-5f60f1b5105f"
      },
      "execution_count": 46,
      "outputs": [
        {
          "output_type": "display_data",
          "data": {
            "image/png": "[encoded data removed]",
            "text/plain": [
              "<Figure size 720x504 with 1 Axes>"
            ]
          },
          "metadata": {
            "needs_background": "light"
          }
        }
      ]
    },
    {
      "cell_type": "code",
      "source": [
        "model_4.evaluate(X_test, Y_test)"
      ],
      "metadata": {
        "colab": {
          "base_uri": "https://localhost:8080/"
        },
        "id": "x1iXkMDuBwC1",
        "outputId": "9522b75d-3495-4423-c077-82a6f4e4a8e1"
      },
      "execution_count": 47,
      "outputs": [
        {
          "output_type": "stream",
          "name": "stdout",
          "text": [
            "313/313 [==============================] - 2s 5ms/step - loss: 0.0764 - accuracy: 0.9822\n"
          ]
        },
        {
          "output_type": "execute_result",
          "data": {
            "text/plain": [
              "[0.07637941837310791, 0.982200026512146]"
            ]
          },
          "metadata": {},
          "execution_count": 47
        }
      ]
    },
    {
      "cell_type": "code",
      "source": [
        "predictions = np.argmax(model_4.predict(X_test), axis=-1)\n",
        "misclassifiedIndexes = []\n",
        "index = 0\n",
        "for target, predict in zip(Y_test, predictions):\n",
        "  if target != predict:\n",
        "    misclassifiedIndexes.append(index)\n",
        "  index += 1\n",
        "\n",
        "misclassifiedIndexes\n",
        "\n",
        "plt.figure(figsize=(25,4))\n",
        "for index in range(5):\n",
        "  plt.subplot(1,5,index+1)\n",
        "  plt.imshow(X_test[misclassifiedIndexes[index]].reshape(28,28), cmap='binary')\n",
        "  plt.axis('off')\n",
        "  plt.title(f'Target: {classes[Y_test[misclassifiedIndexes[index]]]}    Predicted: {classes[predictions[misclassifiedIndexes[index]]]}', fontsize=14)\n",
        "\n",
        "plt.show()"
      ],
      "metadata": {
        "colab": {
          "base_uri": "https://localhost:8080/",
          "height": 265
        },
        "id": "Ko3aq9ALB0zN",
        "outputId": "796bb4e1-a0c2-4a6b-9aeb-0c30e7c7f3a5"
      },
      "execution_count": 48,
      "outputs": [
        {
          "output_type": "display_data",
          "data": {
            "image/png": "[encoded data removed]",
            "text/plain": [
              "<Figure size 1800x288 with 5 Axes>"
            ]
          },
          "metadata": {
            "needs_background": "light"
          }
        }
      ]
    },
    {
      "cell_type": "markdown",
      "source": [
        "# Evaluating Model 4\n",
        "The final model ended up being the best. The training set actually became 100% accurate at epoch 19, which no other model was able to accomplish. It loss was also so small the value was insignificant. The model's final evaluation was</br>\n",
        "loss: 0.0764 - accuracy: 0.9822</br>\n",
        "and the original model was</br>\n",
        "0.0634 - accuracy: 0.9817</br> which is actually surprising. The model appeared to be performing much better but ended up evaluating to around the same as the original model. It also was incorrectly identifying similar numbers to the other models. The time to complete each epoch was 14 seconds which is double the time for the first model but there are also many more neurons and layers than the first model so it wasn't as big of a slow down as expected. So this model ended up being the best, but not by a significant margin. "
      ],
      "metadata": {
        "id": "FN9Q3WT2CEko"
      }
    },
    {
      "cell_type": "markdown",
      "source": [
        "# Part 3: Conclusion\n",
        "The 4th and final model created did the best, but not by that large of a margin. It made use of more layers + more neurons making it more complex, but the end result wasn't very significant. I suspect that almost all models will perform well with this data set, so it isn't much of a fair test to begin with. Because it's easy to identify numbers, pretty much every model performs similarly.</br></br>It also seems like it is almost impossible to get a validation accuracy over ~98%. The training accuracy for the 4th model was 100% for 11 epochs, meaning it had a perfect grasp on how to identify numbers, yet it still only got a 98% on the validation test. I'm not sure how you could increase your validation set any further. Perhaps for an even longer period, but the return would be very low for the effort put in.</br></br>To conclude, I believe a model that is more complex will end up being more accurate. Simply changing one variable of the model didn't prove to be worthwhile. More neurons or more layers didn't have a substantial change because the changes are very simple. However, when changing the amount of neurons AND layers, the model suddenly becomes much more complex, helping refine its training."
      ],
      "metadata": {
        "id": "dawLcUDzDvNo"
      }
    }
  ]
}