{
  "nbformat": 4,
  "nbformat_minor": 0,
  "metadata": {
    "colab": {
      "name": "Homework_2.ipynb",
      "provenance": []
    },
    "kernelspec": {
      "name": "python3",
      "display_name": "Python 3"
    }
  },
  "cells": [
    {
      "cell_type": "markdown",
      "metadata": {
        "id": "PKbOk-Ox7Sxp"
      },
      "source": [
        "# Applied Neural Networks Homework 2\n",
        "Leslie Kerby"
      ]
    },
    {
      "cell_type": "markdown",
      "metadata": {
        "id": "ZgeqXDqe7Z6J"
      },
      "source": [
        "# **MNIST Digits and Keras continued**</br>\n",
        "Import in the MNIST digits dataset (70,000 images, each 28x28 pixels). Preprocess the data as necessary. The training set should have 60k images and the test set 10k. Also create a validation set within the training set -- using 10% of the training data. \n",
        "\n",
        "**Part 1** </br>\n",
        "Create a deep and wide neural network using the Keras Functional API (exact architecture left up to you). Train it for an appropriate number of epochs with an appropriate learning rate and plot the accuracy/loss vs epoch. Find the accuracy on the test data and plot the first five misclassified images. \n",
        "\n",
        "**Part 2**</br>\n",
        "Use the subclassing API to create a different multi-path network than Part 1 (ie, a deep and wide network is multi-path) with two different inputs. Send all pixels in one input and a subset of pixels in the second input. Experiment with different architectures. Train it for an appropriate number of epochs with an appropriate learning rate and plot the accuracy/loss vs epoch. Find the accuracy on the test data and plot the first five misclassified images.\n",
        "\n",
        "**Part 3**</br>\n",
        "Which NN was the best? What was its accuracy? It's confusion matrix? Discuss. "
      ]
    },
    {
      "cell_type": "code",
      "metadata": {
        "id": "6zO-dhC7xU5w"
      },
      "source": [
        ""
      ],
      "execution_count": null,
      "outputs": []
    }
  ]
}