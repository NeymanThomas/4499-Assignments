{
  "nbformat": 4,
  "nbformat_minor": 0,
  "metadata": {
    "colab": {
      "name": "MidProject.ipynb",
      "provenance": [],
      "machine_shape": "hm"
    },
    "kernelspec": {
      "name": "python3",
      "display_name": "Python 3"
    },
    "accelerator": "GPU"
  },
  "cells": [
    {
      "cell_type": "markdown",
      "metadata": {
        "id": "8Uxq7u5ws88p"
      },
      "source": [
        "# MidProject: Cats and Dogs, Better\n",
        "Applied Neural Networks <br/>\n",
        "Dr. Leslie Kerby"
      ]
    },
    {
      "cell_type": "markdown",
      "metadata": {
        "id": "EBG_62G5vL0t"
      },
      "source": [
        "Use the Cats and Dogs dataset in Kaggle from Homework 3. Download the dataset and perform necessary data wrangling or preprocessing, just like you did in HW 3 (ie in Parts 1-3)."
      ]
    },
    {
      "cell_type": "markdown",
      "metadata": {
        "id": "xJnMTLU66Itw"
      },
      "source": [
        "**Part 1** <br/>\n",
        "Create a CNN dog/cat classifier with the following architecture: <br/>\n",
        "Conv2D: 64 filters, 7x7 kernel <br/>\n",
        "MaxPooling2D: 2x2 pool <br/>\n",
        "Conv2D: 128 filters, 3x3 kernel <br/>\n",
        "Conv2D: 128 filters, 3x3 kernel <br/>\n",
        "MaxPooling2D: 2x2 pool <br/>\n",
        "Conv2D: 256 filters, 3x3 kernel <br/>\n",
        "Conv2D: 256 filters, 3x3 kernel <br/>\n",
        "MaxPooling2D: 2x2 pool <br/>\n",
        "Flatten <br/>\n",
        "Dense: 128 neurons <br/>\n",
        "Dropout(15%) <br/>\n",
        "Dense: 64 neurons <br/>\n",
        "Dropout(15%) <br/>\n",
        "Output <br/>\n",
        "strides=1, padding=\"same\", and activation=\"relu\" for all relevant layers <br/>\n",
        "Utilize the Nadam optimizer and Early Stopping\n",
        "\n",
        "What is your accuracy for the validation set and for the test set? Plot several misclassified images.\n",
        "\n",
        "Save your accuracy and val_accuracy each epoch. You will plot them in Part 4."
      ]
    },
    {
      "cell_type": "code",
      "metadata": {
        "id": "tlH4ogyMukHG"
      },
      "source": [
        ""
      ],
      "execution_count": null,
      "outputs": []
    },
    {
      "cell_type": "markdown",
      "metadata": {
        "id": "5R2hxmARrbNF"
      },
      "source": [
        "**Part 2** </br>\n",
        "Add data augmentation. Try different CNN architectures and/or parameters to improve your model. You may also try splitting up the dataset differently (ie more images in training and less in validation and testing sets).\n",
        "\n",
        "What is the accuracy of your best model (on both validation and testing sets)? Plot several misclassified images. Save your accuracy and val_accuracy per epoch (from your best model). You will plot them in Part 4."
      ]
    },
    {
      "cell_type": "code",
      "metadata": {
        "id": "VJ0P5GuSvXBp"
      },
      "source": [
        ""
      ],
      "execution_count": null,
      "outputs": []
    },
    {
      "cell_type": "markdown",
      "metadata": {
        "id": "u2kUlfAvt1os"
      },
      "source": [
        "**Part 3**</br>\n",
        "Use transfer learning. Train on at least three different expert CNNs: Xception, a variant of ResNet, and a variant of EfficientNet. See [here](https://keras.io/api/applications/) for a full list of models available in Keras. Please note that many of these have special requirements (for image size etc). You decide (or experiment with) how to best transfer learn on these expert CNNs.\n",
        "\n",
        "What is the accuracy of your best model (on both validation and testing sets)? Plot several misclassified images. Save your accuracy and val_accuracy per epoch (from your best model). You will plot them in Part 4.\n",
        "\n"
      ]
    },
    {
      "cell_type": "code",
      "metadata": {
        "id": "M4Q-NhaSt2Af"
      },
      "source": [
        ""
      ],
      "execution_count": null,
      "outputs": []
    },
    {
      "cell_type": "markdown",
      "metadata": {
        "id": "U1PAqnyrxPx0"
      },
      "source": [
        "**Part 4**</br>\n",
        "Plot the training and validation accuracy per epoch for your (best) model from each part. Discuss any differences. Which model(s) tend to be overfit? Which model(s) are not? Why?\n",
        "\n",
        "Note: If you have a model B that is only a little better than a model A with respect to validation/testing accuracy, but model B is not overfit and model A is, that is actually a huge improvement. "
      ]
    },
    {
      "cell_type": "code",
      "metadata": {
        "id": "bCN6QGOtxQBW"
      },
      "source": [
        ""
      ],
      "execution_count": null,
      "outputs": []
    },
    {
      "cell_type": "markdown",
      "metadata": {
        "id": "uVdqoU0GyYSB"
      },
      "source": [
        "**GRADUATE STUDENTS ONLY**</br>\n",
        "Again, test your best model on the Kaggle testing set and submit. Show a screenshot etc as proof."
      ]
    },
    {
      "cell_type": "code",
      "metadata": {
        "id": "2eHoNvR9yYeB"
      },
      "source": [
        ""
      ],
      "execution_count": null,
      "outputs": []
    }
  ]
}